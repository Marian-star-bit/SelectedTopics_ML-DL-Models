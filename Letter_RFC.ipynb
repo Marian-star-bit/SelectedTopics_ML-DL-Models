{
 "cells": [
  {
   "cell_type": "code",
   "execution_count": 1,
   "id": "64b91a07",
   "metadata": {},
   "outputs": [],
   "source": [
    "import numpy as np # linear algebra\n",
    "import pandas as pd # data processing, CSV file I/O (e.g. pd.read_csv)"
   ]
  },
  {
   "cell_type": "code",
   "execution_count": 2,
   "id": "dfe6a608",
   "metadata": {},
   "outputs": [],
   "source": [
    "import sklearn\n",
    "import matplotlib.pyplot as plt\n",
    "from sklearn.model_selection import train_test_split\n",
    "from sklearn.metrics import confusion_matrix, classification_report, accuracy_score, f1_score\n",
    "from sklearn.ensemble import RandomForestClassifier \n",
    "import seaborn as sns\n",
    "import sklearn.metrics as metrics"
   ]
  },
  {
   "cell_type": "code",
   "execution_count": 3,
   "id": "01bf835d",
   "metadata": {},
   "outputs": [],
   "source": [
    "letter = pd.read_csv('G:/CS Year 4/1st Semester/CSC399/Project/letter-recognition.csv')"
   ]
  },
  {
   "cell_type": "code",
   "execution_count": 4,
   "id": "e48c0bc7",
   "metadata": {},
   "outputs": [
    {
     "name": "stdout",
     "output_type": "stream",
     "text": [
      "Dataset Shape:  (20000, 17)\n",
      "Dataset:    letter  xbox   ybox   width   height  onpix   xbar   ybar   x2bar  y2bar   \\\n",
      "0      T      2      8       3       5       1      8     13      0       6   \n",
      "1      I      5     12       3       7       2     10      5      5       4   \n",
      "2      D      4     11       6       8       6     10      6      2       6   \n",
      "3      N      7     11       6       6       3      5      9      4       6   \n",
      "4      G      2      1       3       1       1      8      6      6       6   \n",
      "\n",
      "   xybar   x2ybar  xy2bar  xedge   xedgey  yedge   yedgex  \n",
      "0       6      10       8       0       8       0       8  \n",
      "1      13       3       9       2       8       4      10  \n",
      "2      10       3       7       3       7       3       9  \n",
      "3       4       4      10       6      10       2       8  \n",
      "4       6       5       9       1       7       5      10  \n"
     ]
    }
   ],
   "source": [
    "# shape of datasets \n",
    "\n",
    "print (\"Dataset Shape: \", letter.shape) \n",
    "\n",
    "# first five sample \n",
    "\n",
    "print (\"Dataset: \",letter.head())"
   ]
  },
  {
   "cell_type": "code",
   "execution_count": 5,
   "id": "e13fbe4d",
   "metadata": {},
   "outputs": [
    {
     "name": "stdout",
     "output_type": "stream",
     "text": [
      "0        T\n",
      "1        I\n",
      "2        D\n",
      "3        N\n",
      "4        G\n",
      "        ..\n",
      "19995    D\n",
      "19996    C\n",
      "19997    T\n",
      "19998    S\n",
      "19999    A\n",
      "Name: letter, Length: 20000, dtype: object\n"
     ]
    }
   ],
   "source": [
    "# printing letters (first attribute)\n",
    "\n",
    "print(letter.letter)"
   ]
  },
  {
   "cell_type": "code",
   "execution_count": 6,
   "id": "669aa847",
   "metadata": {},
   "outputs": [
    {
     "name": "stdout",
     "output_type": "stream",
     "text": [
      "   xbox   ybox   width   height  onpix   xbar   ybar   x2bar  y2bar   xybar   \\\n",
      "0      2      8       3       5       1      8     13      0       6       6   \n",
      "1      5     12       3       7       2     10      5      5       4      13   \n",
      "2      4     11       6       8       6     10      6      2       6      10   \n",
      "3      7     11       6       6       3      5      9      4       6       4   \n",
      "4      2      1       3       1       1      8      6      6       6       6   \n",
      "\n",
      "   x2ybar  xy2bar  xedge   xedgey  yedge   \n",
      "0      10       8       0       8       0  \n",
      "1       3       9       2       8       4  \n",
      "2       3       7       3       7       3  \n",
      "3       4      10       6      10       2  \n",
      "4       5       9       1       7       5  \n",
      "0    T\n",
      "1    I\n",
      "2    D\n",
      "3    N\n",
      "4    G\n",
      "Name: letter, dtype: object\n"
     ]
    }
   ],
   "source": [
    "X=letter.iloc[:,1:-1]\n",
    "y=letter.iloc[:,0]\n",
    "print(X.head())\n",
    "print(y.head())"
   ]
  },
  {
   "cell_type": "code",
   "execution_count": 7,
   "id": "78fb9993",
   "metadata": {},
   "outputs": [
    {
     "data": {
      "text/plain": [
       "[]"
      ]
     },
     "execution_count": 7,
     "metadata": {},
     "output_type": "execute_result"
    },
    {
     "data": {
      "image/png": "[encoded data removed]",
      "text/plain": [
       "<Figure size 432x288 with 1 Axes>"
      ]
     },
     "metadata": {
      "needs_background": "light"
     },
     "output_type": "display_data"
    }
   ],
   "source": [
    "letter['letter'].value_counts().plot.bar()\n",
    "plt.plot()"
   ]
  },
  {
   "cell_type": "code",
   "execution_count": 8,
   "id": "49f86022",
   "metadata": {},
   "outputs": [],
   "source": [
    "from sklearn.model_selection import train_test_split\n",
    "X_train,X_test,y_train,y_test=train_test_split(X,y,test_size=0.2,random_state=0)"
   ]
  },
  {
   "cell_type": "code",
   "execution_count": 9,
   "id": "6de12cbc",
   "metadata": {},
   "outputs": [
    {
     "data": {
      "text/plain": [
       "RandomForestClassifier(criterion='entropy', n_estimators=245, random_state=0)"
      ]
     },
     "execution_count": 9,
     "metadata": {},
     "output_type": "execute_result"
    }
   ],
   "source": [
    "rfc=RandomForestClassifier(n_estimators=245,criterion='entropy',random_state=0,min_samples_split=2)\n",
    "\n",
    "rfc.fit(X_train,y_train)"
   ]
  },
  {
   "cell_type": "code",
   "execution_count": 10,
   "id": "6cde63c3",
   "metadata": {},
   "outputs": [
    {
     "name": "stdout",
     "output_type": "stream",
     "text": [
      "Accuracy is : 96.85000000000001\n"
     ]
    }
   ],
   "source": [
    "y_pred=rfc.predict(X_test)\n",
    "\n",
    "from sklearn.metrics import accuracy_score\n",
    "ac= accuracy_score(y_test,y_pred)\n",
    "print('Accuracy is :',ac*100)"
   ]
  },
  {
   "cell_type": "code",
   "execution_count": 12,
   "id": "6828532b",
   "metadata": {},
   "outputs": [
    {
     "name": "stdout",
     "output_type": "stream",
     "text": [
      "  letter  xbox   ybox   width   height  onpix   xbar   ybar   x2bar  y2bar   \\\n",
      "0      T      2      8       3       5       1      8     13      0       6   \n",
      "1      I      5     12       3       7       2     10      5      5       4   \n",
      "2      D      4     11       6       8       6     10      6      2       6   \n",
      "3      N      7     11       6       6       3      5      9      4       6   \n",
      "4      G      2      1       3       1       1      8      6      6       6   \n",
      "\n",
      "   xybar   x2ybar  xy2bar  xedge   xedgey  yedge   \n",
      "0       6      10       8       0       8       0  \n",
      "1      13       3       9       2       8       4  \n",
      "2      10       3       7       3       7       3  \n",
      "3       4       4      10       6      10       2  \n",
      "4       6       5       9       1       7       5  \n"
     ]
    },
    {
     "data": {
      "text/plain": [
       "(20000, 16)"
      ]
     },
     "execution_count": 12,
     "metadata": {},
     "output_type": "execute_result"
    }
   ],
   "source": [
    "X1=letter.iloc[:,:-1]\n",
    "print(X1.head())\n",
    "X1.shape"
   ]
  },
  {
   "cell_type": "code",
   "execution_count": 13,
   "id": "93372038",
   "metadata": {},
   "outputs": [],
   "source": [
    "seed = 4353\n",
    "# Instatiation, fitting and prediction\n",
    "\n",
    "rfc=RandomForestClassifier(n_estimators= 10, random_state= seed)\n",
    "rfc.fit(X_train, y_train)\n",
    "predictions = rfc.predict(X_test)"
   ]
  },
  {
   "cell_type": "code",
   "execution_count": 22,
   "id": "ea69b147",
   "metadata": {},
   "outputs": [
    {
     "name": "stdout",
     "output_type": "stream",
     "text": [
      "              precision    recall  f1-score   support\n",
      "\n",
      "           A       0.95      0.98      0.97       147\n",
      "           B       0.88      0.94      0.91       158\n",
      "           C       0.96      0.97      0.97       156\n",
      "           D       0.90      0.95      0.92       171\n",
      "           E       0.90      0.91      0.91       145\n",
      "           F       0.93      0.89      0.91       167\n",
      "           G       0.88      0.90      0.89       182\n",
      "           H       0.88      0.87      0.87       123\n",
      "           I       0.94      0.94      0.94       127\n",
      "           J       0.94      0.94      0.94       159\n",
      "           K       0.93      0.90      0.91       143\n",
      "           L       0.96      0.95      0.95       159\n",
      "           M       0.97      0.97      0.97       173\n",
      "           N       0.97      0.94      0.95       134\n",
      "           O       0.94      0.94      0.94       142\n",
      "           P       0.95      0.91      0.93       165\n",
      "           Q       0.93      0.96      0.95       145\n",
      "           R       0.88      0.93      0.90       149\n",
      "           S       0.96      0.92      0.94       154\n",
      "           T       0.96      0.95      0.96       177\n",
      "           U       0.96      0.96      0.96       160\n",
      "           V       0.92      0.95      0.94       153\n",
      "           W       0.99      0.96      0.97       141\n",
      "           X       0.96      0.96      0.96       173\n",
      "           Y       0.96      0.93      0.94       154\n",
      "           Z       0.98      0.97      0.97       143\n",
      "\n",
      "    accuracy                           0.94      4000\n",
      "   macro avg       0.94      0.94      0.94      4000\n",
      "weighted avg       0.94      0.94      0.94      4000\n",
      "\n",
      "[[144   0   0   0   0   0   0   0   0   0   0   0   0   0   0   0   0   1\n",
      "    0   0   0   0   0   1   0   1]\n",
      " [  0 148   0   1   0   0   1   0   0   2   0   0   0   0   0   1   0   2\n",
      "    1   0   0   2   0   0   0   0]\n",
      " [  0   0 152   0   0   0   2   0   0   0   0   0   0   0   0   0   1   0\n",
      "    0   0   0   1   0   0   0   0]\n",
      " [  1   2   0 162   0   0   2   2   0   1   0   0   0   0   1   0   0   0\n",
      "    0   0   0   0   0   0   0   0]\n",
      " [  0   0   2   0 132   0   3   0   0   0   0   3   0   0   0   0   1   0\n",
      "    0   1   0   0   0   2   0   1]\n",
      " [  0   1   1   1   0 149   0   0   1   1   0   0   1   0   0   5   0   1\n",
      "    1   2   0   2   0   0   1   0]\n",
      " [  1   3   0   1   6   0 164   0   0   0   1   0   0   0   1   0   1   2\n",
      "    1   0   0   1   0   0   0   0]\n",
      " [  1   0   0   4   0   0   0 107   1   0   4   0   0   1   0   0   0   3\n",
      "    0   0   0   0   0   2   0   0]\n",
      " [  0   0   0   0   0   1   1   0 120   5   0   0   0   0   0   0   0   0\n",
      "    0   0   0   0   0   0   0   0]\n",
      " [  0   0   0   1   0   1   0   0   6 149   0   1   0   0   0   0   0   1\n",
      "    0   0   0   0   0   0   0   0]\n",
      " [  1   1   0   1   1   0   0   3   0   0 128   0   0   0   0   0   0   7\n",
      "    0   0   0   0   0   1   0   0]\n",
      " [  2   0   0   0   3   0   1   0   0   0   0 151   0   0   1   0   0   0\n",
      "    0   0   1   0   0   0   0   0]\n",
      " [  0   0   0   1   0   1   0   1   0   0   1   0 167   0   0   0   0   0\n",
      "    0   0   0   1   0   0   1   0]\n",
      " [  0   1   1   0   0   0   0   2   0   0   0   0   2 126   0   0   0   0\n",
      "    0   0   0   2   0   0   0   0]\n",
      " [  0   0   0   2   0   0   2   0   0   0   0   0   0   0 133   0   3   0\n",
      "    0   0   2   0   0   0   0   0]\n",
      " [  0   1   0   0   1   7   3   0   0   0   0   0   0   0   1 150   0   0\n",
      "    0   0   0   1   0   0   1   0]\n",
      " [  0   2   0   0   0   0   2   0   0   0   0   0   0   0   2   0 139   0\n",
      "    0   0   0   0   0   0   0   0]\n",
      " [  1   3   2   2   0   0   0   0   0   0   1   0   1   1   0   0   0 138\n",
      "    0   0   0   0   0   0   0   0]\n",
      " [  0   3   0   0   2   0   0   3   0   0   0   0   0   0   0   0   1   0\n",
      "  141   0   0   1   0   1   1   1]\n",
      " [  0   0   0   0   0   0   2   0   0   0   1   0   0   0   0   1   0   0\n",
      "    1 169   2   0   0   0   1   0]\n",
      " [  0   0   0   2   0   0   1   0   0   0   0   1   1   1   1   0   0   0\n",
      "    0   0 153   0   0   0   0   0]\n",
      " [  0   2   0   0   1   0   1   0   0   0   0   0   0   0   0   0   0   0\n",
      "    0   0   1 146   1   0   1   0]\n",
      " [  0   0   0   0   0   0   2   1   0   0   0   0   0   1   1   0   0   1\n",
      "    0   0   0   0 135   0   0   0]\n",
      " [  0   1   0   1   0   1   0   0   0   0   1   2   0   0   0   0   0   1\n",
      "    0   0   0   0   0 166   0   0]\n",
      " [  0   0   0   0   0   1   0   2   0   0   0   0   0   0   0   1   1   0\n",
      "    1   4   0   1   0   0 143   0]\n",
      " [  0   0   0   1   0   0   0   1   0   0   0   0   0   0   0   0   2   0\n",
      "    1   0   0   0   0   0   0 138]]\n"
     ]
    },
    {
     "ename": "TypeError",
     "evalue": "'list' object is not callable",
     "output_type": "error",
     "traceback": [
      "\u001b[1;31m---------------------------------------------------------------------------\u001b[0m",
      "\u001b[1;31mTypeError\u001b[0m                                 Traceback (most recent call last)",
      "\u001b[1;32m~\\AppData\\Local\\Temp/ipykernel_12852/1240200875.py\u001b[0m in \u001b[0;36m<module>\u001b[1;34m\u001b[0m\n\u001b[0;32m      4\u001b[0m \u001b[0mprint\u001b[0m\u001b[1;33m(\u001b[0m\u001b[0mconfusion_matrix\u001b[0m\u001b[1;33m(\u001b[0m\u001b[0my_test\u001b[0m\u001b[1;33m,\u001b[0m \u001b[0mpredictions\u001b[0m\u001b[1;33m)\u001b[0m\u001b[1;33m)\u001b[0m\u001b[1;33m\u001b[0m\u001b[1;33m\u001b[0m\u001b[0m\n\u001b[0;32m      5\u001b[0m \u001b[1;33m\u001b[0m\u001b[0m\n\u001b[1;32m----> 6\u001b[1;33m \u001b[0mrfc_f1\u001b[0m \u001b[1;33m=\u001b[0m \u001b[0mround\u001b[0m\u001b[1;33m(\u001b[0m\u001b[0mf1_score\u001b[0m\u001b[1;33m(\u001b[0m\u001b[0my_test\u001b[0m\u001b[1;33m,\u001b[0m \u001b[0mpredictions\u001b[0m\u001b[1;33m,\u001b[0m \u001b[0maverage\u001b[0m\u001b[1;33m=\u001b[0m \u001b[1;34m'weighted'\u001b[0m\u001b[1;33m)\u001b[0m\u001b[1;33m,\u001b[0m \u001b[1;36m3\u001b[0m\u001b[1;33m)\u001b[0m\u001b[1;33m\u001b[0m\u001b[1;33m\u001b[0m\u001b[0m\n\u001b[0m\u001b[0;32m      7\u001b[0m \u001b[0mrfc_accuracy\u001b[0m \u001b[1;33m=\u001b[0m \u001b[0mround\u001b[0m\u001b[1;33m(\u001b[0m\u001b[1;33m(\u001b[0m\u001b[0maccuracy_score\u001b[0m\u001b[1;33m(\u001b[0m\u001b[0my_test\u001b[0m\u001b[1;33m,\u001b[0m \u001b[0mpredictions\u001b[0m\u001b[1;33m)\u001b[0m \u001b[1;33m*\u001b[0m \u001b[1;36m100\u001b[0m\u001b[1;33m)\u001b[0m\u001b[1;33m,\u001b[0m \u001b[1;36m2\u001b[0m\u001b[1;33m)\u001b[0m\u001b[1;33m\u001b[0m\u001b[1;33m\u001b[0m\u001b[0m\n\u001b[0;32m      8\u001b[0m \u001b[1;33m\u001b[0m\u001b[0m\n",
      "\u001b[1;31mTypeError\u001b[0m: 'list' object is not callable"
     ]
    }
   ],
   "source": [
    "# Model evaluation\n",
    "\n",
    "print(classification_report(y_test, predictions))\n",
    "print(confusion_matrix(y_test, predictions))\n",
    "\n",
    "rfc_f1 = round(f1_score(y_test, predictions, average= 'weighted'), 3)\n",
    "rfc_accuracy = round((accuracy_score(y_test, predictions) * 100), 2)\n",
    "\n",
    "print(\"Accuracy : \" , rfc_accuracy , \" %\")\n",
    "print(\"f1_score : \" , rfc_f1)"
   ]
  },
  {
   "cell_type": "code",
   "execution_count": 23,
   "id": "0172f8bd",
   "metadata": {},
   "outputs": [
    {
     "data": {
      "image/png": "[encoded data removed]",
      "text/plain": [
       "<Figure size 360x360 with 1 Axes>"
      ]
     },
     "metadata": {},
     "output_type": "display_data"
    }
   ],
   "source": [
    "# Comapring the accuracy for various models\n",
    "\n",
    "model = ['Random Forest']\n",
    "acc = [rfc_accuracy]\n",
    "\n",
    "sns.set_style(\"whitegrid\")\n",
    "plt.figure(figsize=(5,5))\n",
    "plt.yticks(np.arange(0,100,10))\n",
    "plt.ylabel(\"Test Accuracy %\")\n",
    "plt.xlabel(\"\")\n",
    "sns.barplot(x= model, y= acc)\n",
    "plt.show()"
   ]
  },
  {
   "cell_type": "code",
   "execution_count": 24,
   "id": "080ce30e",
   "metadata": {},
   "outputs": [
    {
     "data": {
      "image/png": "[encoded data removed]",
      "text/plain": [
       "<Figure size 360x360 with 1 Axes>"
      ]
     },
     "metadata": {},
     "output_type": "display_data"
    }
   ],
   "source": [
    "# Comparing the f1-score for various models\n",
    "\n",
    "model = ['Random Forest']\n",
    "f1_score = [rfc_f1]\n",
    "\n",
    "sns.set_style(\"whitegrid\")\n",
    "plt.figure(figsize=(5,5))\n",
    "plt.yticks(np.linspace(0,1,21))\n",
    "plt.ylabel(\"f1-score\")\n",
    "plt.xlabel(\"\")\n",
    "sns.barplot(x= model,  y= f1_score)\n",
    "plt.show()"
   ]
  },
  {
   "cell_type": "code",
   "execution_count": null,
   "id": "20f8e588",
   "metadata": {},
   "outputs": [],
   "source": []
  },
  {
   "cell_type": "code",
   "execution_count": null,
   "id": "24ff3cef",
   "metadata": {},
   "outputs": [],
   "source": []
  }
 ],
 "metadata": {
  "kernelspec": {
   "display_name": "Python 3 (ipykernel)",
   "language": "python",
   "name": "python3"
  },
  "language_info": {
   "codemirror_mode": {
    "name": "ipython",
    "version": 3
   },
   "file_extension": ".py",
   "mimetype": "text/x-python",
   "name": "python",
   "nbconvert_exporter": "python",
   "pygments_lexer": "ipython3",
   "version": "3.9.7"
  }
 },
 "nbformat": 4,
 "nbformat_minor": 5
}
