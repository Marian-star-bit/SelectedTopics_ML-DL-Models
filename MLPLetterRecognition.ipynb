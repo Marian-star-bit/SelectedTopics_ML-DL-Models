{
  "nbformat": 4,
  "nbformat_minor": 0,
  "metadata": {
    "colab": {
      "name": "MLPLetterRecognition.ipynb",
      "provenance": [],
      "collapsed_sections": []
    },
    "kernelspec": {
      "name": "python3",
      "display_name": "Python 3"
    },
    "language_info": {
      "name": "python"
    }
  },
  "cells": [
    {
      "cell_type": "code",
      "execution_count": null,
      "metadata": {
        "id": "LvkfReOOi13a"
      },
      "outputs": [],
      "source": [
        "import pandas as pd\n",
        "import matplotlib.pyplot as plt\n",
        "from sklearn.neural_network import MLPClassifier\n",
        "from sklearn.model_selection import train_test_split\n",
        "from sklearn.metrics import accuracy_score, classification_report"
      ]
    },
    {
      "cell_type": "markdown",
      "source": [
        "**Vissualization Data**"
      ],
      "metadata": {
        "id": "J5AM-Ir2jfMO"
      }
    },
    {
      "cell_type": "code",
      "source": [
        "ds = pd.read_csv('drive/MyDrive/DataSets/letter-recognition.csv')\n",
        "ds.head()"
      ],
      "metadata": {
        "colab": {
          "base_uri": "https://localhost:8080/",
          "height": 206
        },
        "id": "p3EuWmh0jQJv",
        "outputId": "85bcd82a-e2b8-4da8-d9b6-779d0c88a028"
      },
      "execution_count": null,
      "outputs": [
        {
          "output_type": "execute_result",
          "data": {
            "text/html": [
              "\n",
              "  <div id=\"df-37798e63-6cc9-4641-9841-f0ab483777b7\">\n",
              "    <div class=\"colab-df-container\">\n",
              "      <div>\n",
              "<style scoped>\n",
              "    .dataframe tbody tr th:only-of-type {\n",
              "        vertical-align: middle;\n",
              "    }\n",
              "\n",
              "    .dataframe tbody tr th {\n",
              "        vertical-align: top;\n",
              "    }\n",
              "\n",
              "    .dataframe thead th {\n",
              "        text-align: right;\n",
              "    }\n",
              "</style>\n",
              "<table border=\"1\" class=\"dataframe\">\n",
              "  <thead>\n",
              "    <tr style=\"text-align: right;\">\n",
              "      <th></th>\n",
              "      <th>letter</th>\n",
              "      <th>xbox</th>\n",
              "      <th>ybox</th>\n",
              "      <th>width</th>\n",
              "      <th>height</th>\n",
              "      <th>onpix</th>\n",
              "      <th>xbar</th>\n",
              "      <th>ybar</th>\n",
              "      <th>x2bar</th>\n",
              "      <th>y2bar</th>\n",
              "      <th>xybar</th>\n",
              "      <th>x2ybar</th>\n",
              "      <th>xy2bar</th>\n",
              "      <th>xedge</th>\n",
              "      <th>xedgey</th>\n",
              "      <th>yedge</th>\n",
              "      <th>yedgex</th>\n",
              "    </tr>\n",
              "  </thead>\n",
              "  <tbody>\n",
              "    <tr>\n",
              "      <th>0</th>\n",
              "      <td>T</td>\n",
              "      <td>2</td>\n",
              "      <td>8</td>\n",
              "      <td>3</td>\n",
              "      <td>5</td>\n",
              "      <td>1</td>\n",
              "      <td>8</td>\n",
              "      <td>13</td>\n",
              "      <td>0</td>\n",
              "      <td>6</td>\n",
              "      <td>6</td>\n",
              "      <td>10</td>\n",
              "      <td>8</td>\n",
              "      <td>0</td>\n",
              "      <td>8</td>\n",
              "      <td>0</td>\n",
              "      <td>8</td>\n",
              "    </tr>\n",
              "    <tr>\n",
              "      <th>1</th>\n",
              "      <td>I</td>\n",
              "      <td>5</td>\n",
              "      <td>12</td>\n",
              "      <td>3</td>\n",
              "      <td>7</td>\n",
              "      <td>2</td>\n",
              "      <td>10</td>\n",
              "      <td>5</td>\n",
              "      <td>5</td>\n",
              "      <td>4</td>\n",
              "      <td>13</td>\n",
              "      <td>3</td>\n",
              "      <td>9</td>\n",
              "      <td>2</td>\n",
              "      <td>8</td>\n",
              "      <td>4</td>\n",
              "      <td>10</td>\n",
              "    </tr>\n",
              "    <tr>\n",
              "      <th>2</th>\n",
              "      <td>D</td>\n",
              "      <td>4</td>\n",
              "      <td>11</td>\n",
              "      <td>6</td>\n",
              "      <td>8</td>\n",
              "      <td>6</td>\n",
              "      <td>10</td>\n",
              "      <td>6</td>\n",
              "      <td>2</td>\n",
              "      <td>6</td>\n",
              "      <td>10</td>\n",
              "      <td>3</td>\n",
              "      <td>7</td>\n",
              "      <td>3</td>\n",
              "      <td>7</td>\n",
              "      <td>3</td>\n",
              "      <td>9</td>\n",
              "    </tr>\n",
              "    <tr>\n",
              "      <th>3</th>\n",
              "      <td>N</td>\n",
              "      <td>7</td>\n",
              "      <td>11</td>\n",
              "      <td>6</td>\n",
              "      <td>6</td>\n",
              "      <td>3</td>\n",
              "      <td>5</td>\n",
              "      <td>9</td>\n",
              "      <td>4</td>\n",
              "      <td>6</td>\n",
              "      <td>4</td>\n",
              "      <td>4</td>\n",
              "      <td>10</td>\n",
              "      <td>6</td>\n",
              "      <td>10</td>\n",
              "      <td>2</td>\n",
              "      <td>8</td>\n",
              "    </tr>\n",
              "    <tr>\n",
              "      <th>4</th>\n",
              "      <td>G</td>\n",
              "      <td>2</td>\n",
              "      <td>1</td>\n",
              "      <td>3</td>\n",
              "      <td>1</td>\n",
              "      <td>1</td>\n",
              "      <td>8</td>\n",
              "      <td>6</td>\n",
              "      <td>6</td>\n",
              "      <td>6</td>\n",
              "      <td>6</td>\n",
              "      <td>5</td>\n",
              "      <td>9</td>\n",
              "      <td>1</td>\n",
              "      <td>7</td>\n",
              "      <td>5</td>\n",
              "      <td>10</td>\n",
              "    </tr>\n",
              "  </tbody>\n",
              "</table>\n",
              "</div>\n",
              "      <button class=\"colab-df-convert\" onclick=\"convertToInteractive('df-37798e63-6cc9-4641-9841-f0ab483777b7')\"\n",
              "              title=\"Convert this dataframe to an interactive table.\"\n",
              "              style=\"display:none;\">\n",
              "        \n",
              "  <svg xmlns=\"http://www.w3.org/2000/svg\" height=\"24px\"viewBox=\"0 0 24 24\"\n",
              "       width=\"24px\">\n",
              "    <path d=\"M0 0h24v24H0V0z\" fill=\"none\"/>\n",
              "    <path d=\"M18.56 5.44l.94 2.06.94-2.06 2.06-.94-2.06-.94-.94-2.06-.94 2.06-2.06.94zm-11 1L8.5 8.5l.94-2.06 2.06-.94-2.06-.94L8.5 2.5l-.94 2.06-2.06.94zm10 10l.94 2.06.94-2.06 2.06-.94-2.06-.94-.94-2.06-.94 2.06-2.06.94z\"/><path d=\"M17.41 7.96l-1.37-1.37c-.4-.4-.92-.59-1.43-.59-.52 0-1.04.2-1.43.59L10.3 9.45l-7.72 7.72c-.78.78-.78 2.05 0 2.83L4 21.41c.39.39.9.59 1.41.59.51 0 1.02-.2 1.41-.59l7.78-7.78 2.81-2.81c.8-.78.8-2.07 0-2.86zM5.41 20L4 18.59l7.72-7.72 1.47 1.35L5.41 20z\"/>\n",
              "  </svg>\n",
              "      </button>\n",
              "      \n",
              "  <style>\n",
              "    .colab-df-container {\n",
              "      display:flex;\n",
              "      flex-wrap:wrap;\n",
              "      gap: 12px;\n",
              "    }\n",
              "\n",
              "    .colab-df-convert {\n",
              "      background-color: #E8F0FE;\n",
              "      border: none;\n",
              "      border-radius: 50%;\n",
              "      cursor: pointer;\n",
              "      display: none;\n",
              "      fill: #1967D2;\n",
              "      height: 32px;\n",
              "      padding: 0 0 0 0;\n",
              "      width: 32px;\n",
              "    }\n",
              "\n",
              "    .colab-df-convert:hover {\n",
              "      background-color: #E2EBFA;\n",
              "      box-shadow: 0px 1px 2px rgba(60, 64, 67, 0.3), 0px 1px 3px 1px rgba(60, 64, 67, 0.15);\n",
              "      fill: #174EA6;\n",
              "    }\n",
              "\n",
              "    [theme=dark] .colab-df-convert {\n",
              "      background-color: #3B4455;\n",
              "      fill: #D2E3FC;\n",
              "    }\n",
              "\n",
              "    [theme=dark] .colab-df-convert:hover {\n",
              "      background-color: #434B5C;\n",
              "      box-shadow: 0px 1px 3px 1px rgba(0, 0, 0, 0.15);\n",
              "      filter: drop-shadow(0px 1px 2px rgba(0, 0, 0, 0.3));\n",
              "      fill: #FFFFFF;\n",
              "    }\n",
              "  </style>\n",
              "\n",
              "      <script>\n",
              "        const buttonEl =\n",
              "          document.querySelector('#df-37798e63-6cc9-4641-9841-f0ab483777b7 button.colab-df-convert');\n",
              "        buttonEl.style.display =\n",
              "          google.colab.kernel.accessAllowed ? 'block' : 'none';\n",
              "\n",
              "        async function convertToInteractive(key) {\n",
              "          const element = document.querySelector('#df-37798e63-6cc9-4641-9841-f0ab483777b7');\n",
              "          const dataTable =\n",
              "            await google.colab.kernel.invokeFunction('convertToInteractive',\n",
              "                                                     [key], {});\n",
              "          if (!dataTable) return;\n",
              "\n",
              "          const docLinkHtml = 'Like what you see? Visit the ' +\n",
              "            '<a target=\"_blank\" href=https://colab.research.google.com/notebooks/data_table.ipynb>data table notebook</a>'\n",
              "            + ' to learn more about interactive tables.';\n",
              "          element.innerHTML = '';\n",
              "          dataTable['output_type'] = 'display_data';\n",
              "          await google.colab.output.renderOutput(dataTable, element);\n",
              "          const docLink = document.createElement('div');\n",
              "          docLink.innerHTML = docLinkHtml;\n",
              "          element.appendChild(docLink);\n",
              "        }\n",
              "      </script>\n",
              "    </div>\n",
              "  </div>\n",
              "  "
            ],
            "text/plain": [
              "  letter  xbox   ybox   width   height  ...  xy2bar  xedge   xedgey  yedge   yedgex\n",
              "0      T      2      8       3       5  ...       8       0       8       0       8\n",
              "1      I      5     12       3       7  ...       9       2       8       4      10\n",
              "2      D      4     11       6       8  ...       7       3       7       3       9\n",
              "3      N      7     11       6       6  ...      10       6      10       2       8\n",
              "4      G      2      1       3       1  ...       9       1       7       5      10\n",
              "\n",
              "[5 rows x 17 columns]"
            ]
          },
          "metadata": {},
          "execution_count": 12
        }
      ]
    },
    {
      "cell_type": "code",
      "source": [
        "ds['letter'].value_counts()"
      ],
      "metadata": {
        "colab": {
          "base_uri": "https://localhost:8080/"
        },
        "id": "IAk3qudok6OH",
        "outputId": "978c7697-ee40-4b1c-d5f3-333f38abca98"
      },
      "execution_count": null,
      "outputs": [
        {
          "output_type": "execute_result",
          "data": {
            "text/plain": [
              "U    813\n",
              "D    805\n",
              "P    803\n",
              "T    796\n",
              "M    792\n",
              "A    789\n",
              "X    787\n",
              "Y    786\n",
              "Q    783\n",
              "N    783\n",
              "F    775\n",
              "G    773\n",
              "E    768\n",
              "B    766\n",
              "V    764\n",
              "L    761\n",
              "R    758\n",
              "I    755\n",
              "O    753\n",
              "W    752\n",
              "S    748\n",
              "J    747\n",
              "K    739\n",
              "C    736\n",
              "H    734\n",
              "Z    734\n",
              "Name: letter, dtype: int64"
            ]
          },
          "metadata": {},
          "execution_count": 13
        }
      ]
    },
    {
      "cell_type": "code",
      "source": [
        "ds.shape"
      ],
      "metadata": {
        "colab": {
          "base_uri": "https://localhost:8080/"
        },
        "id": "2ygkbXNajiFq",
        "outputId": "fa8f7643-f71c-41e1-a280-f74273f9cdd7"
      },
      "execution_count": null,
      "outputs": [
        {
          "output_type": "execute_result",
          "data": {
            "text/plain": [
              "(20000, 17)"
            ]
          },
          "metadata": {},
          "execution_count": 14
        }
      ]
    },
    {
      "cell_type": "markdown",
      "source": [
        "**Pre processing**"
      ],
      "metadata": {
        "id": "--fSAiQemZc3"
      }
    },
    {
      "cell_type": "code",
      "source": [
        "X_train, X_test, y_train, y_test = train_test_split(ds.drop('letter', axis=1), ds['letter'], test_size=0.3)\n",
        "print('X_train: ', X_train)\n",
        "print('Y_train: ', y_train)\n",
        "print('X_test: ', X_test)\n",
        "print('Y_test: ', y_test)"
      ],
      "metadata": {
        "colab": {
          "base_uri": "https://localhost:8080/"
        },
        "id": "L_h3QjEFmX4J",
        "outputId": "3b91082f-60fd-4b95-87c0-f429897bb33d"
      },
      "execution_count": null,
      "outputs": [
        {
          "output_type": "stream",
          "name": "stdout",
          "text": [
            "X_train:         xbox   ybox   width   height  ...  xedge   xedgey  yedge   yedgex\n",
            "5228       3      3       5       4  ...       8       9       0       8\n",
            "10162      5      7       6       8  ...       3       9       7      10\n",
            "18594      2      2       3       4  ...       1       8       7       8\n",
            "11667      2      5       3       4  ...       0       7       2       8\n",
            "12516      0      6       0       4  ...       0       8       0       8\n",
            "...      ...    ...     ...     ...  ...     ...     ...     ...     ...\n",
            "3712       3      3       5       2  ...       5       8       0       8\n",
            "16083      0      4       0       6  ...       0       8       0       8\n",
            "12168      4     10       4       7  ...       3       8       0       8\n",
            "9948       5      9       7       7  ...       3       9       3       7\n",
            "6215       3      4       3       6  ...       0       8       0       8\n",
            "\n",
            "[14000 rows x 16 columns]\n",
            "Y_train:  5228     W\n",
            "10162    Q\n",
            "18594    Z\n",
            "11667    L\n",
            "12516    I\n",
            "        ..\n",
            "3712     N\n",
            "16083    I\n",
            "12168    H\n",
            "9948     H\n",
            "6215     L\n",
            "Name: letter, Length: 14000, dtype: object\n",
            "X_test:         xbox   ybox   width   height  ...  xedge   xedgey  yedge   yedgex\n",
            "11102      4      5       6       7  ...       1      11       0       8\n",
            "17970      4     11       5       9  ...       2       7       5      11\n",
            "19035      4      9       6       6  ...       1       7       4       9\n",
            "8033       3      3       3       2  ...       5      11       1       6\n",
            "1494       2      4       4       6  ...       2       7       6       8\n",
            "...      ...    ...     ...     ...  ...     ...     ...     ...     ...\n",
            "8145       2      6       3       4  ...       0       7       2       5\n",
            "13552      3      8       6       6  ...       2      11       2       8\n",
            "2634       8     11      11       9  ...       3       8       3       8\n",
            "378        4     11       5       8  ...       2       7       8       8\n",
            "16227      4      8       5       6  ...       1       8       5       9\n",
            "\n",
            "[6000 rows x 16 columns]\n",
            "Y_test:  11102    Y\n",
            "17970    G\n",
            "19035    C\n",
            "8033     W\n",
            "1494     Z\n",
            "        ..\n",
            "8145     L\n",
            "13552    Y\n",
            "2634     H\n",
            "378      Z\n",
            "16227    Z\n",
            "Name: letter, Length: 6000, dtype: object\n"
          ]
        }
      ]
    },
    {
      "cell_type": "code",
      "source": [
        "modelSgd = MLPClassifier(hidden_layer_sizes=(100,100,100), activation='relu', solver='sgd', max_iter=2000)\n",
        "modelSgd.fit(X_train, y_train)\n",
        "print(classification_report(y_test, modelSgd.predict(X_test)))"
      ],
      "metadata": {
        "colab": {
          "base_uri": "https://localhost:8080/"
        },
        "id": "SJikHzMhlF4G",
        "outputId": "521807d1-ecb5-46ca-b724-cfd483bbd981"
      },
      "execution_count": null,
      "outputs": [
        {
          "output_type": "stream",
          "name": "stdout",
          "text": [
            "              precision    recall  f1-score   support\n",
            "\n",
            "           A       0.97      0.98      0.97       217\n",
            "           B       0.91      0.88      0.90       241\n",
            "           C       0.95      0.96      0.96       217\n",
            "           D       0.90      0.95      0.93       230\n",
            "           E       0.94      0.92      0.93       225\n",
            "           F       0.94      0.94      0.94       251\n",
            "           G       0.91      0.95      0.93       235\n",
            "           H       0.92      0.93      0.92       217\n",
            "           I       0.95      0.94      0.94       217\n",
            "           J       0.96      0.95      0.95       215\n",
            "           K       0.94      0.96      0.95       219\n",
            "           L       0.98      0.95      0.97       252\n",
            "           M       0.97      0.99      0.98       214\n",
            "           N       0.97      0.95      0.96       234\n",
            "           O       0.91      0.94      0.92       211\n",
            "           P       0.96      0.96      0.96       258\n",
            "           Q       0.98      0.95      0.97       234\n",
            "           R       0.89      0.88      0.88       235\n",
            "           S       0.95      0.95      0.95       193\n",
            "           T       0.95      0.97      0.96       238\n",
            "           U       0.98      0.96      0.97       269\n",
            "           V       0.95      0.95      0.95       243\n",
            "           W       0.99      0.96      0.97       220\n",
            "           X       0.97      0.97      0.97       244\n",
            "           Y       0.97      0.96      0.96       240\n",
            "           Z       0.97      0.99      0.98       231\n",
            "\n",
            "    accuracy                           0.95      6000\n",
            "   macro avg       0.95      0.95      0.95      6000\n",
            "weighted avg       0.95      0.95      0.95      6000\n",
            "\n"
          ]
        }
      ]
    },
    {
      "cell_type": "code",
      "source": [
        "modelAdam = MLPClassifier(hidden_layer_sizes=(250,250, 250), activation='relu', solver='adam', max_iter=2000)\n",
        "modelAdam.fit(X_train, y_train)\n",
        "print(classification_report(y_test, modelAdam.predict(X_test)))"
      ],
      "metadata": {
        "colab": {
          "base_uri": "https://localhost:8080/"
        },
        "id": "Gdn1K3t4ooxf",
        "outputId": "1d2ee61d-1b69-4f53-d9b2-2ba6590f59f0"
      },
      "execution_count": null,
      "outputs": [
        {
          "output_type": "stream",
          "name": "stdout",
          "text": [
            "              precision    recall  f1-score   support\n",
            "\n",
            "           A       0.99      0.98      0.99       217\n",
            "           B       0.93      0.93      0.93       241\n",
            "           C       0.95      0.98      0.96       217\n",
            "           D       0.98      0.91      0.94       230\n",
            "           E       0.91      0.97      0.94       225\n",
            "           F       0.97      0.97      0.97       251\n",
            "           G       0.95      0.95      0.95       235\n",
            "           H       0.90      0.94      0.92       217\n",
            "           I       0.95      0.94      0.94       217\n",
            "           J       0.94      0.94      0.94       215\n",
            "           K       0.96      0.96      0.96       219\n",
            "           L       0.99      0.96      0.98       252\n",
            "           M       0.97      0.99      0.98       214\n",
            "           N       1.00      0.96      0.98       234\n",
            "           O       0.91      0.98      0.94       211\n",
            "           P       0.94      0.97      0.95       258\n",
            "           Q       0.98      0.95      0.97       234\n",
            "           R       0.92      0.91      0.91       235\n",
            "           S       0.96      0.95      0.96       193\n",
            "           T       0.97      0.97      0.97       238\n",
            "           U       0.99      0.97      0.98       269\n",
            "           V       0.94      0.98      0.96       243\n",
            "           W       0.99      0.97      0.98       220\n",
            "           X       0.99      0.97      0.98       244\n",
            "           Y       0.98      0.97      0.98       240\n",
            "           Z       0.99      0.99      0.99       231\n",
            "\n",
            "    accuracy                           0.96      6000\n",
            "   macro avg       0.96      0.96      0.96      6000\n",
            "weighted avg       0.96      0.96      0.96      6000\n",
            "\n"
          ]
        }
      ]
    },
    {
      "cell_type": "code",
      "source": [
        "modelAdam = MLPClassifier(hidden_layer_sizes=(200,200, 200), activation='logistic', solver='adam', max_iter=2000)\n",
        "modelAdam.fit(X_train, y_train)\n",
        "print(classification_report(y_test, modelAdam.predict(X_test)))"
      ],
      "metadata": {
        "colab": {
          "base_uri": "https://localhost:8080/"
        },
        "id": "y5mXvHG1yVDa",
        "outputId": "66049c57-6c48-478c-9943-0bef03da9515"
      },
      "execution_count": null,
      "outputs": [
        {
          "output_type": "stream",
          "name": "stdout",
          "text": [
            "              precision    recall  f1-score   support\n",
            "\n",
            "           A       0.97      0.98      0.97       217\n",
            "           B       0.93      0.91      0.92       241\n",
            "           C       0.95      0.98      0.96       217\n",
            "           D       0.92      0.96      0.94       230\n",
            "           E       0.95      0.96      0.96       225\n",
            "           F       0.94      0.96      0.95       251\n",
            "           G       0.94      0.93      0.94       235\n",
            "           H       0.93      0.94      0.93       217\n",
            "           I       0.95      0.92      0.93       217\n",
            "           J       0.94      0.94      0.94       215\n",
            "           K       0.93      0.99      0.96       219\n",
            "           L       1.00      0.97      0.98       252\n",
            "           M       0.97      0.99      0.98       214\n",
            "           N       0.97      0.98      0.97       234\n",
            "           O       0.97      0.92      0.95       211\n",
            "           P       0.99      0.90      0.95       258\n",
            "           Q       0.99      0.93      0.96       234\n",
            "           R       0.88      0.95      0.91       235\n",
            "           S       0.95      0.99      0.97       193\n",
            "           T       0.95      0.98      0.96       238\n",
            "           U       0.99      0.96      0.97       269\n",
            "           V       0.96      0.98      0.97       243\n",
            "           W       1.00      0.96      0.98       220\n",
            "           X       0.97      0.98      0.98       244\n",
            "           Y       1.00      0.97      0.98       240\n",
            "           Z       0.99      0.98      0.98       231\n",
            "\n",
            "    accuracy                           0.96      6000\n",
            "   macro avg       0.96      0.96      0.96      6000\n",
            "weighted avg       0.96      0.96      0.96      6000\n",
            "\n"
          ]
        }
      ]
    }
  ]
}